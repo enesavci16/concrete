{
 "cells": [
  {
   "cell_type": "code",
   "execution_count": 39,
   "id": "88a710d5",
   "metadata": {
    "execution": {
     "iopub.execute_input": "2023-03-30T13:08:26.540029Z",
     "iopub.status.busy": "2023-03-30T13:08:26.539615Z",
     "iopub.status.idle": "2023-03-30T13:08:26.545191Z",
     "shell.execute_reply": "2023-03-30T13:08:26.543985Z",
     "shell.execute_reply.started": "2023-03-30T13:08:26.539995Z"
    }
   },
   "outputs": [],
   "source": [
    "#! pip install mlxtend\n"
   ]
  },
  {
   "cell_type": "code",
   "execution_count": 40,
   "id": "94a0bf4d",
   "metadata": {
    "execution": {
     "iopub.execute_input": "2023-03-30T13:08:26.548111Z",
     "iopub.status.busy": "2023-03-30T13:08:26.547566Z",
     "iopub.status.idle": "2023-03-30T13:08:26.555832Z",
     "shell.execute_reply": "2023-03-30T13:08:26.554153Z",
     "shell.execute_reply.started": "2023-03-30T13:08:26.548061Z"
    }
   },
   "outputs": [],
   "source": [
    "#! pip install lightgbm"
   ]
  },
  {
   "cell_type": "code",
   "execution_count": 41,
   "id": "78f79139",
   "metadata": {
    "execution": {
     "iopub.execute_input": "2023-03-30T13:08:26.559251Z",
     "iopub.status.busy": "2023-03-30T13:08:26.558189Z",
     "iopub.status.idle": "2023-03-30T13:08:26.567271Z",
     "shell.execute_reply": "2023-03-30T13:08:26.565957Z",
     "shell.execute_reply.started": "2023-03-30T13:08:26.559200Z"
    }
   },
   "outputs": [],
   "source": [
    "#pip install --upgrade pip"
   ]
  },
  {
   "cell_type": "code",
   "execution_count": 42,
   "id": "9fa5f135",
   "metadata": {
    "execution": {
     "iopub.execute_input": "2023-03-30T13:08:26.569072Z",
     "iopub.status.busy": "2023-03-30T13:08:26.568613Z",
     "iopub.status.idle": "2023-03-30T13:08:26.594992Z",
     "shell.execute_reply": "2023-03-30T13:08:26.593733Z",
     "shell.execute_reply.started": "2023-03-30T13:08:26.569024Z"
    }
   },
   "outputs": [],
   "source": [
    "import numpy as np \n",
    "import pandas as pd \n",
    "import seaborn as sns\n",
    "from matplotlib import pyplot as plt\n",
    "from matplotlib import style\n",
    "\n",
    "#models\n",
    "from sklearn import linear_model\n",
    "from sklearn.model_selection import train_test_split\n",
    "from sklearn.linear_model import LogisticRegression\n",
    "from sklearn.ensemble import RandomForestClassifier\n",
    "from sklearn.linear_model import Perceptron\n",
    "from sklearn.tree import DecisionTreeRegressor\n",
    "from sklearn.neighbors import KNeighborsClassifier\n",
    "from sklearn.svm import SVC, LinearSVC\n",
    "from sklearn.naive_bayes import GaussianNB\n",
    "\n",
    "from sklearn.model_selection import train_test_split\n",
    "from sklearn.linear_model import LinearRegression, Ridge\n",
    "from sklearn.preprocessing import StandardScaler, PolynomialFeatures\n",
    "from sklearn.neural_network import MLPRegressor\n",
    "\n",
    "# Plots\n",
    "import seaborn as sns\n",
    "import matplotlib.pyplot as plt\n",
    "\n",
    "# Models\n",
    "from sklearn.ensemble import RandomForestRegressor, GradientBoostingRegressor, AdaBoostRegressor, BaggingRegressor\n",
    "from sklearn.kernel_ridge import KernelRidge\n",
    "from sklearn.linear_model import Ridge, RidgeCV\n",
    "from sklearn.linear_model import ElasticNet, ElasticNetCV\n",
    "from sklearn.svm import SVR\n",
    "from mlxtend.regressor import StackingCVRegressor\n",
    "import lightgbm as lgb\n",
    "from lightgbm import LGBMRegressor\n",
    "from xgboost import XGBRegressor\n",
    "\n",
    "# Stats\n",
    "from scipy.stats import skew, norm\n",
    "from scipy.special import boxcox1p\n",
    "from scipy.stats import boxcox_normmax\n",
    "\n",
    "# Misc\n",
    "from sklearn.model_selection import GridSearchCV\n",
    "from sklearn.model_selection import KFold, cross_val_score\n",
    "from sklearn.metrics import mean_squared_error\n",
    "from sklearn.preprocessing import OneHotEncoder\n",
    "from sklearn.preprocessing import LabelEncoder\n",
    "from sklearn.pipeline import make_pipeline\n",
    "from sklearn.preprocessing import scale\n",
    "from sklearn.preprocessing import StandardScaler\n",
    "from sklearn.preprocessing import RobustScaler\n",
    "from sklearn.decomposition import PCA\n",
    "\n",
    "pd.set_option('display.max_columns', None)\n",
    "\n",
    "# Ignore useless warnings\n",
    "import warnings\n",
    "warnings.filterwarnings(action=\"ignore\")\n",
    "pd.options.display.max_seq_items = 8000\n",
    "pd.options.display.max_rows = 8000\n",
    "\n",
    "#İSTATİKSEL\n",
    "import statsmodels.api as sm\n",
    "import statsmodels.formula.api as smf\n",
    "import patsy\n",
    "import seaborn as sns\n",
    "import matplotlib.pyplot as plt\n",
    "from sklearn.linear_model import LinearRegression\n",
    "import warnings\n",
    "warnings.filterwarnings(\"ignore\")\n",
    "%matplotlib inline\n",
    "\n",
    "#metrics\n",
    "from sklearn.metrics import mean_squared_error, r2_score,mean_absolute_error,mean_absolute_percentage_error"
   ]
  },
  {
   "cell_type": "code",
   "execution_count": 43,
   "id": "13c20f08",
   "metadata": {
    "execution": {
     "iopub.execute_input": "2023-03-30T13:08:26.599076Z",
     "iopub.status.busy": "2023-03-30T13:08:26.598506Z",
     "iopub.status.idle": "2023-03-30T13:08:26.613772Z",
     "shell.execute_reply": "2023-03-30T13:08:26.612748Z",
     "shell.execute_reply.started": "2023-03-30T13:08:26.599026Z"
    }
   },
   "outputs": [],
   "source": [
    "#data_con=pd.read_excel(\"concrete.xls\")\n",
    "data_slump=pd.read_csv(\"slump_test.data\")"
   ]
  },
  {
   "cell_type": "code",
   "execution_count": 44,
   "id": "68fe351b",
   "metadata": {
    "execution": {
     "iopub.execute_input": "2023-03-30T13:08:26.615427Z",
     "iopub.status.busy": "2023-03-30T13:08:26.614954Z",
     "iopub.status.idle": "2023-03-30T13:08:26.620871Z",
     "shell.execute_reply": "2023-03-30T13:08:26.619729Z",
     "shell.execute_reply.started": "2023-03-30T13:08:26.615374Z"
    }
   },
   "outputs": [],
   "source": [
    "#data_con.head()"
   ]
  },
  {
   "cell_type": "code",
   "execution_count": 45,
   "id": "f90db36b",
   "metadata": {
    "execution": {
     "iopub.execute_input": "2023-03-30T13:08:26.622423Z",
     "iopub.status.busy": "2023-03-30T13:08:26.622007Z",
     "iopub.status.idle": "2023-03-30T13:08:26.627987Z",
     "shell.execute_reply": "2023-03-30T13:08:26.626838Z",
     "shell.execute_reply.started": "2023-03-30T13:08:26.622379Z"
    }
   },
   "outputs": [],
   "source": [
    "#data_con.info()"
   ]
  },
  {
   "cell_type": "code",
   "execution_count": 46,
   "id": "fa09ac7f",
   "metadata": {
    "execution": {
     "iopub.execute_input": "2023-03-30T13:08:26.629557Z",
     "iopub.status.busy": "2023-03-30T13:08:26.629161Z",
     "iopub.status.idle": "2023-03-30T13:08:26.637397Z",
     "shell.execute_reply": "2023-03-30T13:08:26.636434Z",
     "shell.execute_reply.started": "2023-03-30T13:08:26.629515Z"
    }
   },
   "outputs": [],
   "source": [
    "\n",
    "df_slump=data_slump.copy()"
   ]
  },
  {
   "cell_type": "code",
   "execution_count": 47,
   "id": "80cb8991",
   "metadata": {
    "execution": {
     "iopub.execute_input": "2023-03-30T13:08:26.689933Z",
     "iopub.status.busy": "2023-03-30T13:08:26.689411Z",
     "iopub.status.idle": "2023-03-30T13:08:26.716829Z",
     "shell.execute_reply": "2023-03-30T13:08:26.715613Z",
     "shell.execute_reply.started": "2023-03-30T13:08:26.689877Z"
    }
   },
   "outputs": [
    {
     "data": {
      "text/html": [
       "<div>\n",
       "<style scoped>\n",
       "    .dataframe tbody tr th:only-of-type {\n",
       "        vertical-align: middle;\n",
       "    }\n",
       "\n",
       "    .dataframe tbody tr th {\n",
       "        vertical-align: top;\n",
       "    }\n",
       "\n",
       "    .dataframe thead th {\n",
       "        text-align: right;\n",
       "    }\n",
       "</style>\n",
       "<table border=\"1\" class=\"dataframe\">\n",
       "  <thead>\n",
       "    <tr style=\"text-align: right;\">\n",
       "      <th></th>\n",
       "      <th>No</th>\n",
       "      <th>Cement</th>\n",
       "      <th>Slag</th>\n",
       "      <th>Fly ash</th>\n",
       "      <th>Water</th>\n",
       "      <th>SP</th>\n",
       "      <th>Coarse Aggr.</th>\n",
       "      <th>Fine Aggr.</th>\n",
       "      <th>SLUMP(cm)</th>\n",
       "      <th>FLOW(cm)</th>\n",
       "      <th>Compressive Strength (28-day)(Mpa)</th>\n",
       "    </tr>\n",
       "  </thead>\n",
       "  <tbody>\n",
       "    <tr>\n",
       "      <th>0</th>\n",
       "      <td>1</td>\n",
       "      <td>273.0</td>\n",
       "      <td>82.0</td>\n",
       "      <td>105.0</td>\n",
       "      <td>210.0</td>\n",
       "      <td>9.0</td>\n",
       "      <td>904.0</td>\n",
       "      <td>680.0</td>\n",
       "      <td>23.0</td>\n",
       "      <td>62.0</td>\n",
       "      <td>34.99</td>\n",
       "    </tr>\n",
       "    <tr>\n",
       "      <th>1</th>\n",
       "      <td>2</td>\n",
       "      <td>163.0</td>\n",
       "      <td>149.0</td>\n",
       "      <td>191.0</td>\n",
       "      <td>180.0</td>\n",
       "      <td>12.0</td>\n",
       "      <td>843.0</td>\n",
       "      <td>746.0</td>\n",
       "      <td>0.0</td>\n",
       "      <td>20.0</td>\n",
       "      <td>41.14</td>\n",
       "    </tr>\n",
       "    <tr>\n",
       "      <th>2</th>\n",
       "      <td>3</td>\n",
       "      <td>162.0</td>\n",
       "      <td>148.0</td>\n",
       "      <td>191.0</td>\n",
       "      <td>179.0</td>\n",
       "      <td>16.0</td>\n",
       "      <td>840.0</td>\n",
       "      <td>743.0</td>\n",
       "      <td>1.0</td>\n",
       "      <td>20.0</td>\n",
       "      <td>41.81</td>\n",
       "    </tr>\n",
       "    <tr>\n",
       "      <th>3</th>\n",
       "      <td>4</td>\n",
       "      <td>162.0</td>\n",
       "      <td>148.0</td>\n",
       "      <td>190.0</td>\n",
       "      <td>179.0</td>\n",
       "      <td>19.0</td>\n",
       "      <td>838.0</td>\n",
       "      <td>741.0</td>\n",
       "      <td>3.0</td>\n",
       "      <td>21.5</td>\n",
       "      <td>42.08</td>\n",
       "    </tr>\n",
       "    <tr>\n",
       "      <th>4</th>\n",
       "      <td>5</td>\n",
       "      <td>154.0</td>\n",
       "      <td>112.0</td>\n",
       "      <td>144.0</td>\n",
       "      <td>220.0</td>\n",
       "      <td>10.0</td>\n",
       "      <td>923.0</td>\n",
       "      <td>658.0</td>\n",
       "      <td>20.0</td>\n",
       "      <td>64.0</td>\n",
       "      <td>26.82</td>\n",
       "    </tr>\n",
       "  </tbody>\n",
       "</table>\n",
       "</div>"
      ],
      "text/plain": [
       "   No  Cement   Slag  Fly ash  Water    SP  Coarse Aggr.  Fine Aggr.  \\\n",
       "0   1   273.0   82.0    105.0  210.0   9.0         904.0       680.0   \n",
       "1   2   163.0  149.0    191.0  180.0  12.0         843.0       746.0   \n",
       "2   3   162.0  148.0    191.0  179.0  16.0         840.0       743.0   \n",
       "3   4   162.0  148.0    190.0  179.0  19.0         838.0       741.0   \n",
       "4   5   154.0  112.0    144.0  220.0  10.0         923.0       658.0   \n",
       "\n",
       "   SLUMP(cm)  FLOW(cm)  Compressive Strength (28-day)(Mpa)  \n",
       "0       23.0      62.0                               34.99  \n",
       "1        0.0      20.0                               41.14  \n",
       "2        1.0      20.0                               41.81  \n",
       "3        3.0      21.5                               42.08  \n",
       "4       20.0      64.0                               26.82  "
      ]
     },
     "execution_count": 47,
     "metadata": {},
     "output_type": "execute_result"
    }
   ],
   "source": [
    "df_slump.head()"
   ]
  },
  {
   "cell_type": "code",
   "execution_count": 48,
   "id": "1cb3d628",
   "metadata": {
    "execution": {
     "iopub.execute_input": "2023-03-30T13:08:26.720208Z",
     "iopub.status.busy": "2023-03-30T13:08:26.719764Z",
     "iopub.status.idle": "2023-03-30T13:08:26.727321Z",
     "shell.execute_reply": "2023-03-30T13:08:26.726079Z",
     "shell.execute_reply.started": "2023-03-30T13:08:26.720151Z"
    }
   },
   "outputs": [
    {
     "data": {
      "text/plain": [
       "Index(['No', 'Cement', 'Slag', 'Fly ash', 'Water', 'SP', 'Coarse Aggr.',\n",
       "       'Fine Aggr.', 'SLUMP(cm)', 'FLOW(cm)',\n",
       "       'Compressive Strength (28-day)(Mpa)'],\n",
       "      dtype='object')"
      ]
     },
     "execution_count": 48,
     "metadata": {},
     "output_type": "execute_result"
    }
   ],
   "source": [
    "df_slump.columns"
   ]
  },
  {
   "cell_type": "markdown",
   "id": "e13cc038",
   "metadata": {},
   "source": [
    "# İstatiksel analiz"
   ]
  },
  {
   "cell_type": "markdown",
   "id": "83b976d0",
   "metadata": {},
   "source": [
    "#### veri setimizde target kolonu olarak Compressive Strength (28-day)(Mpa) kaldı"
   ]
  },
  {
   "cell_type": "code",
   "execution_count": 49,
   "id": "3405208f",
   "metadata": {
    "execution": {
     "iopub.execute_input": "2023-03-30T13:08:26.729728Z",
     "iopub.status.busy": "2023-03-30T13:08:26.729254Z",
     "iopub.status.idle": "2023-03-30T13:08:26.738981Z",
     "shell.execute_reply": "2023-03-30T13:08:26.737902Z",
     "shell.execute_reply.started": "2023-03-30T13:08:26.729681Z"
    }
   },
   "outputs": [],
   "source": [
    "from sklearn.model_selection import train_test_split\n",
    "X_1 = df_slump.drop(['SLUMP(cm)','FLOW(cm)'],1) \n",
    "y_1= df_slump[['Compressive Strength (28-day)(Mpa)']]\n",
    "\n"
   ]
  },
  {
   "cell_type": "code",
   "execution_count": 50,
   "id": "f849c83a",
   "metadata": {
    "execution": {
     "iopub.execute_input": "2023-03-30T13:08:26.740807Z",
     "iopub.status.busy": "2023-03-30T13:08:26.740502Z",
     "iopub.status.idle": "2023-03-30T13:08:26.765974Z",
     "shell.execute_reply": "2023-03-30T13:08:26.764818Z",
     "shell.execute_reply.started": "2023-03-30T13:08:26.740777Z"
    }
   },
   "outputs": [
    {
     "data": {
      "text/html": [
       "<table class=\"simpletable\">\n",
       "<caption>OLS Regression Results</caption>\n",
       "<tr>\n",
       "  <th>Dep. Variable:</th>    <td>Compressive Strength (28-day)(Mpa)</td> <th>  R-squared (uncentered):</th>      <td>   1.000</td> \n",
       "</tr>\n",
       "<tr>\n",
       "  <th>Model:</th>                            <td>OLS</td>                <th>  Adj. R-squared (uncentered):</th> <td>   1.000</td> \n",
       "</tr>\n",
       "<tr>\n",
       "  <th>Method:</th>                      <td>Least Squares</td>           <th>  F-statistic:       </th>          <td>5.811e+30</td>\n",
       "</tr>\n",
       "<tr>\n",
       "  <th>Date:</th>                      <td>Thu, 06 Apr 2023</td>          <th>  Prob (F-statistic):</th>           <td>  0.00</td>  \n",
       "</tr>\n",
       "<tr>\n",
       "  <th>Time:</th>                          <td>15:55:10</td>              <th>  Log-Likelihood:    </th>          <td>  3009.6</td> \n",
       "</tr>\n",
       "<tr>\n",
       "  <th>No. Observations:</th>               <td>   103</td>               <th>  AIC:               </th>          <td>  -6001.</td> \n",
       "</tr>\n",
       "<tr>\n",
       "  <th>Df Residuals:</th>                   <td>    94</td>               <th>  BIC:               </th>          <td>  -5977.</td> \n",
       "</tr>\n",
       "<tr>\n",
       "  <th>Df Model:</th>                       <td>     9</td>               <th>                     </th>              <td> </td>    \n",
       "</tr>\n",
       "<tr>\n",
       "  <th>Covariance Type:</th>               <td>nonrobust</td>             <th>                     </th>              <td> </td>    \n",
       "</tr>\n",
       "</table>\n",
       "<table class=\"simpletable\">\n",
       "<tr>\n",
       "                   <td></td>                     <th>coef</th>     <th>std err</th>      <th>t</th>      <th>P>|t|</th>  <th>[0.025</th>    <th>0.975]</th>  \n",
       "</tr>\n",
       "<tr>\n",
       "  <th>No</th>                                 <td>-9.714e-17</td> <td> 2.11e-16</td> <td>   -0.461</td> <td> 0.646</td> <td>-5.16e-16</td> <td> 3.21e-16</td>\n",
       "</tr>\n",
       "<tr>\n",
       "  <th>Cement</th>                             <td>         0</td> <td> 2.37e-16</td> <td>        0</td> <td> 1.000</td> <td> -4.7e-16</td> <td>  4.7e-16</td>\n",
       "</tr>\n",
       "<tr>\n",
       "  <th>Slag</th>                               <td>-2.515e-17</td> <td> 1.26e-16</td> <td>   -0.199</td> <td> 0.842</td> <td>-2.76e-16</td> <td> 2.25e-16</td>\n",
       "</tr>\n",
       "<tr>\n",
       "  <th>Fly ash</th>                            <td>-6.939e-18</td> <td> 2.19e-16</td> <td>   -0.032</td> <td> 0.975</td> <td>-4.42e-16</td> <td> 4.29e-16</td>\n",
       "</tr>\n",
       "<tr>\n",
       "  <th>Water</th>                              <td>-1.527e-16</td> <td> 3.05e-16</td> <td>   -0.500</td> <td> 0.618</td> <td>-7.59e-16</td> <td> 4.53e-16</td>\n",
       "</tr>\n",
       "<tr>\n",
       "  <th>SP</th>                                 <td>-5.551e-16</td> <td>  2.1e-15</td> <td>   -0.265</td> <td> 0.792</td> <td>-4.72e-15</td> <td> 3.61e-15</td>\n",
       "</tr>\n",
       "<tr>\n",
       "  <th>Coarse Aggr.</th>                       <td> 5.204e-18</td> <td> 4.25e-17</td> <td>    0.123</td> <td> 0.903</td> <td>-7.91e-17</td> <td> 8.95e-17</td>\n",
       "</tr>\n",
       "<tr>\n",
       "  <th>Fine Aggr.</th>                         <td>   8.5e-17</td> <td> 7.53e-17</td> <td>    1.130</td> <td> 0.262</td> <td>-6.44e-17</td> <td> 2.34e-16</td>\n",
       "</tr>\n",
       "<tr>\n",
       "  <th>Compressive Strength (28-day)(Mpa)</th> <td>    1.0000</td> <td> 2.05e-15</td> <td> 4.87e+14</td> <td> 0.000</td> <td>    1.000</td> <td>    1.000</td>\n",
       "</tr>\n",
       "</table>\n",
       "<table class=\"simpletable\">\n",
       "<tr>\n",
       "  <th>Omnibus:</th>       <td> 6.170</td> <th>  Durbin-Watson:     </th> <td>   0.045</td>\n",
       "</tr>\n",
       "<tr>\n",
       "  <th>Prob(Omnibus):</th> <td> 0.046</td> <th>  Jarque-Bera (JB):  </th> <td>   5.661</td>\n",
       "</tr>\n",
       "<tr>\n",
       "  <th>Skew:</th>          <td>-0.475</td> <th>  Prob(JB):          </th> <td>  0.0590</td>\n",
       "</tr>\n",
       "<tr>\n",
       "  <th>Kurtosis:</th>      <td> 3.645</td> <th>  Cond. No.          </th> <td>    542.</td>\n",
       "</tr>\n",
       "</table><br/><br/>Notes:<br/>[1] R² is computed without centering (uncentered) since the model does not contain a constant.<br/>[2] Standard Errors assume that the covariance matrix of the errors is correctly specified."
      ],
      "text/plain": [
       "<class 'statsmodels.iolib.summary.Summary'>\n",
       "\"\"\"\n",
       "                                         OLS Regression Results                                        \n",
       "=======================================================================================================\n",
       "Dep. Variable:     Compressive Strength (28-day)(Mpa)   R-squared (uncentered):                   1.000\n",
       "Model:                                            OLS   Adj. R-squared (uncentered):              1.000\n",
       "Method:                                 Least Squares   F-statistic:                          5.811e+30\n",
       "Date:                                Thu, 06 Apr 2023   Prob (F-statistic):                        0.00\n",
       "Time:                                        15:55:10   Log-Likelihood:                          3009.6\n",
       "No. Observations:                                 103   AIC:                                     -6001.\n",
       "Df Residuals:                                      94   BIC:                                     -5977.\n",
       "Df Model:                                           9                                                  \n",
       "Covariance Type:                            nonrobust                                                  \n",
       "======================================================================================================\n",
       "                                         coef    std err          t      P>|t|      [0.025      0.975]\n",
       "------------------------------------------------------------------------------------------------------\n",
       "No                                 -9.714e-17   2.11e-16     -0.461      0.646   -5.16e-16    3.21e-16\n",
       "Cement                                      0   2.37e-16          0      1.000    -4.7e-16     4.7e-16\n",
       "Slag                               -2.515e-17   1.26e-16     -0.199      0.842   -2.76e-16    2.25e-16\n",
       "Fly ash                            -6.939e-18   2.19e-16     -0.032      0.975   -4.42e-16    4.29e-16\n",
       "Water                              -1.527e-16   3.05e-16     -0.500      0.618   -7.59e-16    4.53e-16\n",
       "SP                                 -5.551e-16    2.1e-15     -0.265      0.792   -4.72e-15    3.61e-15\n",
       "Coarse Aggr.                        5.204e-18   4.25e-17      0.123      0.903   -7.91e-17    8.95e-17\n",
       "Fine Aggr.                            8.5e-17   7.53e-17      1.130      0.262   -6.44e-17    2.34e-16\n",
       "Compressive Strength (28-day)(Mpa)     1.0000   2.05e-15   4.87e+14      0.000       1.000       1.000\n",
       "==============================================================================\n",
       "Omnibus:                        6.170   Durbin-Watson:                   0.045\n",
       "Prob(Omnibus):                  0.046   Jarque-Bera (JB):                5.661\n",
       "Skew:                          -0.475   Prob(JB):                       0.0590\n",
       "Kurtosis:                       3.645   Cond. No.                         542.\n",
       "==============================================================================\n",
       "\n",
       "Notes:\n",
       "[1] R² is computed without centering (uncentered) since the model does not contain a constant.\n",
       "[2] Standard Errors assume that the covariance matrix of the errors is correctly specified.\n",
       "\"\"\""
      ]
     },
     "execution_count": 50,
     "metadata": {},
     "output_type": "execute_result"
    }
   ],
   "source": [
    "#Değişkenlerin tanımlaması\n",
    "#y, X = patsy.dmatrices('\"Compressive Strength (28-day)(Mpa)\" ~ Cement + Slag + \"Fly ash\" + Water + SP + \"Coarse Aggr.\"+ \"Fine Aggr.\"', data=df_slump, return_type=\"dataframe\")\n",
    "\n",
    "# Modeli Oluşturma\n",
    "model = sm.OLS(y_1, X_1)\n",
    "\n",
    "# Modeli Eğitme\n",
    "fit = model.fit()\n",
    "\n",
    "# Oluşturduğumuz modele ilişkin istatistiksel değerleri görüntüleme\n",
    "fit.summary()"
   ]
  },
  {
   "cell_type": "markdown",
   "id": "a566fa65",
   "metadata": {},
   "source": [
    "# PYCARET"
   ]
  },
  {
   "cell_type": "code",
   "execution_count": 51,
   "id": "3e3bfbe8",
   "metadata": {
    "execution": {
     "iopub.execute_input": "2023-03-30T13:08:26.769153Z",
     "iopub.status.busy": "2023-03-30T13:08:26.768810Z",
     "iopub.status.idle": "2023-03-30T13:08:26.772567Z",
     "shell.execute_reply": "2023-03-30T13:08:26.771812Z",
     "shell.execute_reply.started": "2023-03-30T13:08:26.769122Z"
    }
   },
   "outputs": [],
   "source": [
    "# !pip install pycaret"
   ]
  },
  {
   "cell_type": "code",
   "execution_count": 52,
   "id": "7c11bfc5",
   "metadata": {
    "execution": {
     "iopub.execute_input": "2023-03-30T13:08:26.773864Z",
     "iopub.status.busy": "2023-03-30T13:08:26.773579Z",
     "iopub.status.idle": "2023-03-30T13:08:26.782428Z",
     "shell.execute_reply": "2023-03-30T13:08:26.781655Z",
     "shell.execute_reply.started": "2023-03-30T13:08:26.773835Z"
    }
   },
   "outputs": [],
   "source": [
    "#from pycaret.regression import *"
   ]
  },
  {
   "cell_type": "code",
   "execution_count": 53,
   "id": "1d71d221",
   "metadata": {
    "execution": {
     "iopub.execute_input": "2023-03-30T13:08:26.784003Z",
     "iopub.status.busy": "2023-03-30T13:08:26.783688Z",
     "iopub.status.idle": "2023-03-30T13:08:26.792254Z",
     "shell.execute_reply": "2023-03-30T13:08:26.791173Z",
     "shell.execute_reply.started": "2023-03-30T13:08:26.783973Z"
    }
   },
   "outputs": [],
   "source": [
    "df_slump_1 = df_slump.drop(['SLUMP(cm)','FLOW(cm)'],1) "
   ]
  },
  {
   "cell_type": "markdown",
   "id": "cb55a194",
   "metadata": {},
   "source": [
    "### Train Test Split"
   ]
  },
  {
   "cell_type": "code",
   "execution_count": 54,
   "id": "a93f6faa",
   "metadata": {
    "execution": {
     "iopub.execute_input": "2023-03-30T13:08:26.793827Z",
     "iopub.status.busy": "2023-03-30T13:08:26.793544Z",
     "iopub.status.idle": "2023-03-30T13:08:26.802379Z",
     "shell.execute_reply": "2023-03-30T13:08:26.801243Z",
     "shell.execute_reply.started": "2023-03-30T13:08:26.793798Z"
    }
   },
   "outputs": [],
   "source": [
    "df_slump_1_train,df_slump_1_test=train_test_split(df_slump_1,random_state=42,test_size=0.2)"
   ]
  },
  {
   "cell_type": "code",
   "execution_count": 55,
   "id": "ed36479f",
   "metadata": {
    "execution": {
     "iopub.execute_input": "2023-03-30T13:08:26.804723Z",
     "iopub.status.busy": "2023-03-30T13:08:26.804298Z",
     "iopub.status.idle": "2023-03-30T13:08:26.816116Z",
     "shell.execute_reply": "2023-03-30T13:08:26.815022Z",
     "shell.execute_reply.started": "2023-03-30T13:08:26.804669Z"
    }
   },
   "outputs": [
    {
     "data": {
      "text/plain": [
       "No                                    0\n",
       "Cement                                0\n",
       "Slag                                  0\n",
       "Fly ash                               0\n",
       "Water                                 0\n",
       "SP                                    0\n",
       "Coarse Aggr.                          0\n",
       "Fine Aggr.                            0\n",
       "Compressive Strength (28-day)(Mpa)    0\n",
       "dtype: int64"
      ]
     },
     "execution_count": 55,
     "metadata": {},
     "output_type": "execute_result"
    }
   ],
   "source": [
    "df_slump_1_test.isnull().sum()"
   ]
  },
  {
   "cell_type": "code",
   "execution_count": 56,
   "id": "cc408db4",
   "metadata": {
    "execution": {
     "iopub.execute_input": "2023-03-30T13:08:26.819810Z",
     "iopub.status.busy": "2023-03-30T13:08:26.819310Z",
     "iopub.status.idle": "2023-03-30T13:08:26.840227Z",
     "shell.execute_reply": "2023-03-30T13:08:26.838978Z",
     "shell.execute_reply.started": "2023-03-30T13:08:26.819764Z"
    }
   },
   "outputs": [
    {
     "data": {
      "text/html": [
       "<div>\n",
       "<style scoped>\n",
       "    .dataframe tbody tr th:only-of-type {\n",
       "        vertical-align: middle;\n",
       "    }\n",
       "\n",
       "    .dataframe tbody tr th {\n",
       "        vertical-align: top;\n",
       "    }\n",
       "\n",
       "    .dataframe thead th {\n",
       "        text-align: right;\n",
       "    }\n",
       "</style>\n",
       "<table border=\"1\" class=\"dataframe\">\n",
       "  <thead>\n",
       "    <tr style=\"text-align: right;\">\n",
       "      <th></th>\n",
       "      <th>No</th>\n",
       "      <th>Cement</th>\n",
       "      <th>Slag</th>\n",
       "      <th>Fly ash</th>\n",
       "      <th>Water</th>\n",
       "      <th>SP</th>\n",
       "      <th>Coarse Aggr.</th>\n",
       "      <th>Fine Aggr.</th>\n",
       "      <th>Compressive Strength (28-day)(Mpa)</th>\n",
       "    </tr>\n",
       "  </thead>\n",
       "  <tbody>\n",
       "    <tr>\n",
       "      <th>53</th>\n",
       "      <td>54</td>\n",
       "      <td>309.0</td>\n",
       "      <td>0.0</td>\n",
       "      <td>142.0</td>\n",
       "      <td>218.0</td>\n",
       "      <td>10.0</td>\n",
       "      <td>912.0</td>\n",
       "      <td>680.0</td>\n",
       "      <td>38.59</td>\n",
       "    </tr>\n",
       "    <tr>\n",
       "      <th>22</th>\n",
       "      <td>23</td>\n",
       "      <td>148.0</td>\n",
       "      <td>180.0</td>\n",
       "      <td>0.0</td>\n",
       "      <td>183.0</td>\n",
       "      <td>11.0</td>\n",
       "      <td>972.0</td>\n",
       "      <td>757.0</td>\n",
       "      <td>18.52</td>\n",
       "    </tr>\n",
       "    <tr>\n",
       "      <th>68</th>\n",
       "      <td>69</td>\n",
       "      <td>320.0</td>\n",
       "      <td>127.0</td>\n",
       "      <td>164.0</td>\n",
       "      <td>211.0</td>\n",
       "      <td>6.0</td>\n",
       "      <td>721.0</td>\n",
       "      <td>723.0</td>\n",
       "      <td>46.36</td>\n",
       "    </tr>\n",
       "    <tr>\n",
       "      <th>44</th>\n",
       "      <td>45</td>\n",
       "      <td>298.0</td>\n",
       "      <td>107.0</td>\n",
       "      <td>0.0</td>\n",
       "      <td>186.0</td>\n",
       "      <td>6.0</td>\n",
       "      <td>879.0</td>\n",
       "      <td>815.0</td>\n",
       "      <td>30.97</td>\n",
       "    </tr>\n",
       "    <tr>\n",
       "      <th>98</th>\n",
       "      <td>99</td>\n",
       "      <td>248.3</td>\n",
       "      <td>101.0</td>\n",
       "      <td>239.1</td>\n",
       "      <td>168.9</td>\n",
       "      <td>7.7</td>\n",
       "      <td>954.2</td>\n",
       "      <td>640.6</td>\n",
       "      <td>49.97</td>\n",
       "    </tr>\n",
       "  </tbody>\n",
       "</table>\n",
       "</div>"
      ],
      "text/plain": [
       "    No  Cement   Slag  Fly ash  Water    SP  Coarse Aggr.  Fine Aggr.  \\\n",
       "53  54   309.0    0.0    142.0  218.0  10.0         912.0       680.0   \n",
       "22  23   148.0  180.0      0.0  183.0  11.0         972.0       757.0   \n",
       "68  69   320.0  127.0    164.0  211.0   6.0         721.0       723.0   \n",
       "44  45   298.0  107.0      0.0  186.0   6.0         879.0       815.0   \n",
       "98  99   248.3  101.0    239.1  168.9   7.7         954.2       640.6   \n",
       "\n",
       "    Compressive Strength (28-day)(Mpa)  \n",
       "53                               38.59  \n",
       "22                               18.52  \n",
       "68                               46.36  \n",
       "44                               30.97  \n",
       "98                               49.97  "
      ]
     },
     "execution_count": 56,
     "metadata": {},
     "output_type": "execute_result"
    }
   ],
   "source": [
    "df_slump_1_train.head()"
   ]
  },
  {
   "cell_type": "code",
   "execution_count": 57,
   "id": "c463cf22",
   "metadata": {
    "execution": {
     "iopub.execute_input": "2023-03-30T13:08:26.841964Z",
     "iopub.status.busy": "2023-03-30T13:08:26.841538Z",
     "iopub.status.idle": "2023-03-30T13:08:26.865323Z",
     "shell.execute_reply": "2023-03-30T13:08:26.863939Z",
     "shell.execute_reply.started": "2023-03-30T13:08:26.841919Z"
    }
   },
   "outputs": [
    {
     "data": {
      "text/html": [
       "<div>\n",
       "<style scoped>\n",
       "    .dataframe tbody tr th:only-of-type {\n",
       "        vertical-align: middle;\n",
       "    }\n",
       "\n",
       "    .dataframe tbody tr th {\n",
       "        vertical-align: top;\n",
       "    }\n",
       "\n",
       "    .dataframe thead th {\n",
       "        text-align: right;\n",
       "    }\n",
       "</style>\n",
       "<table border=\"1\" class=\"dataframe\">\n",
       "  <thead>\n",
       "    <tr style=\"text-align: right;\">\n",
       "      <th></th>\n",
       "      <th>No</th>\n",
       "      <th>Cement</th>\n",
       "      <th>Slag</th>\n",
       "      <th>Fly ash</th>\n",
       "      <th>Water</th>\n",
       "      <th>SP</th>\n",
       "      <th>Coarse Aggr.</th>\n",
       "      <th>Fine Aggr.</th>\n",
       "      <th>Compressive Strength (28-day)(Mpa)</th>\n",
       "    </tr>\n",
       "  </thead>\n",
       "  <tbody>\n",
       "    <tr>\n",
       "      <th>30</th>\n",
       "      <td>31</td>\n",
       "      <td>321.0</td>\n",
       "      <td>0.0</td>\n",
       "      <td>164.0</td>\n",
       "      <td>190.0</td>\n",
       "      <td>5.0</td>\n",
       "      <td>870.0</td>\n",
       "      <td>774.0</td>\n",
       "      <td>45.82</td>\n",
       "    </tr>\n",
       "    <tr>\n",
       "      <th>67</th>\n",
       "      <td>68</td>\n",
       "      <td>166.0</td>\n",
       "      <td>0.0</td>\n",
       "      <td>260.0</td>\n",
       "      <td>183.0</td>\n",
       "      <td>13.0</td>\n",
       "      <td>859.0</td>\n",
       "      <td>827.0</td>\n",
       "      <td>40.34</td>\n",
       "    </tr>\n",
       "    <tr>\n",
       "      <th>62</th>\n",
       "      <td>63</td>\n",
       "      <td>299.0</td>\n",
       "      <td>107.0</td>\n",
       "      <td>0.0</td>\n",
       "      <td>210.0</td>\n",
       "      <td>10.0</td>\n",
       "      <td>881.0</td>\n",
       "      <td>745.0</td>\n",
       "      <td>28.29</td>\n",
       "    </tr>\n",
       "    <tr>\n",
       "      <th>47</th>\n",
       "      <td>48</td>\n",
       "      <td>287.0</td>\n",
       "      <td>94.0</td>\n",
       "      <td>121.0</td>\n",
       "      <td>188.0</td>\n",
       "      <td>9.0</td>\n",
       "      <td>904.0</td>\n",
       "      <td>696.0</td>\n",
       "      <td>43.01</td>\n",
       "    </tr>\n",
       "    <tr>\n",
       "      <th>42</th>\n",
       "      <td>43</td>\n",
       "      <td>160.0</td>\n",
       "      <td>146.0</td>\n",
       "      <td>188.0</td>\n",
       "      <td>203.0</td>\n",
       "      <td>11.0</td>\n",
       "      <td>829.0</td>\n",
       "      <td>710.0</td>\n",
       "      <td>33.51</td>\n",
       "    </tr>\n",
       "  </tbody>\n",
       "</table>\n",
       "</div>"
      ],
      "text/plain": [
       "    No  Cement   Slag  Fly ash  Water    SP  Coarse Aggr.  Fine Aggr.  \\\n",
       "30  31   321.0    0.0    164.0  190.0   5.0         870.0       774.0   \n",
       "67  68   166.0    0.0    260.0  183.0  13.0         859.0       827.0   \n",
       "62  63   299.0  107.0      0.0  210.0  10.0         881.0       745.0   \n",
       "47  48   287.0   94.0    121.0  188.0   9.0         904.0       696.0   \n",
       "42  43   160.0  146.0    188.0  203.0  11.0         829.0       710.0   \n",
       "\n",
       "    Compressive Strength (28-day)(Mpa)  \n",
       "30                               45.82  \n",
       "67                               40.34  \n",
       "62                               28.29  \n",
       "47                               43.01  \n",
       "42                               33.51  "
      ]
     },
     "execution_count": 57,
     "metadata": {},
     "output_type": "execute_result"
    }
   ],
   "source": [
    "df_slump_1_test.head()"
   ]
  },
  {
   "cell_type": "code",
   "execution_count": 58,
   "id": "3db76ee3",
   "metadata": {
    "execution": {
     "iopub.execute_input": "2023-03-30T13:08:26.868066Z",
     "iopub.status.busy": "2023-03-30T13:08:26.866857Z",
     "iopub.status.idle": "2023-03-30T13:08:26.881925Z",
     "shell.execute_reply": "2023-03-30T13:08:26.880529Z",
     "shell.execute_reply.started": "2023-03-30T13:08:26.868014Z"
    }
   },
   "outputs": [
    {
     "data": {
      "text/plain": [
       "(103, 8)"
      ]
     },
     "execution_count": 58,
     "metadata": {},
     "output_type": "execute_result"
    }
   ],
   "source": [
    "# Split features and labels\n",
    "train_labels_1 = df_slump_1_train['Compressive Strength (28-day)(Mpa)'].reset_index(drop=True)\n",
    "train_features_1 = df_slump_1_train.drop(['Compressive Strength (28-day)(Mpa)'], axis=1)\n",
    "test_y_1=df_slump_1_test[\"Compressive Strength (28-day)(Mpa)\"]\n",
    "test_features_1=df_slump_1_test.drop([\"Compressive Strength (28-day)(Mpa)\"],inplace=True,axis=1)\n",
    "test_features_1 = df_slump_1_test.copy()\n",
    "\n",
    "# Combine train and test features in order to apply the feature transformation pipeline to the entire dataset\n",
    "all_features = pd.concat([train_features_1, test_features_1]).reset_index(drop=True)\n",
    "all_features.shape"
   ]
  },
  {
   "cell_type": "markdown",
   "id": "9be5a54b",
   "metadata": {},
   "source": [
    "### MODELS "
   ]
  },
  {
   "cell_type": "code",
   "execution_count": 59,
   "id": "0319cf22",
   "metadata": {
    "execution": {
     "iopub.execute_input": "2023-03-30T13:08:26.883790Z",
     "iopub.status.busy": "2023-03-30T13:08:26.883381Z",
     "iopub.status.idle": "2023-03-30T13:08:26.896498Z",
     "shell.execute_reply": "2023-03-30T13:08:26.895024Z",
     "shell.execute_reply.started": "2023-03-30T13:08:26.883751Z"
    }
   },
   "outputs": [
    {
     "data": {
      "text/plain": [
       "((82, 8), (82,), (21, 8))"
      ]
     },
     "execution_count": 59,
     "metadata": {},
     "output_type": "execute_result"
    }
   ],
   "source": [
    "X_train = all_features.iloc[:len(train_labels_1), :]\n",
    "X_test = all_features.iloc[len(train_labels_1):, :]\n",
    "X_train.shape, train_labels_1.shape, X_test.shape"
   ]
  },
  {
   "cell_type": "code",
   "execution_count": 60,
   "id": "cfcca86d",
   "metadata": {
    "execution": {
     "iopub.execute_input": "2023-03-30T13:08:26.904404Z",
     "iopub.status.busy": "2023-03-30T13:08:26.903211Z",
     "iopub.status.idle": "2023-03-30T13:08:26.911066Z",
     "shell.execute_reply": "2023-03-30T13:08:26.909896Z",
     "shell.execute_reply.started": "2023-03-30T13:08:26.904327Z"
    }
   },
   "outputs": [],
   "source": [
    "# Setup cross validation folds\n",
    "kf = KFold(n_splits=12, random_state=42, shuffle=True)"
   ]
  },
  {
   "cell_type": "code",
   "execution_count": 61,
   "id": "99d77100",
   "metadata": {
    "execution": {
     "iopub.execute_input": "2023-03-30T13:08:26.913056Z",
     "iopub.status.busy": "2023-03-30T13:08:26.912522Z",
     "iopub.status.idle": "2023-03-30T13:08:26.928824Z",
     "shell.execute_reply": "2023-03-30T13:08:26.927595Z",
     "shell.execute_reply.started": "2023-03-30T13:08:26.913008Z"
    }
   },
   "outputs": [],
   "source": [
    "# Light Gradient Boosting Regressor\n",
    "lightgbm = LGBMRegressor(objective='regression', \n",
    "                       num_leaves=6,\n",
    "                       learning_rate=0.01, \n",
    "                       n_estimators=7000,\n",
    "                       max_bin=200, \n",
    "                       bagging_fraction=0.8,\n",
    "                       bagging_freq=4, \n",
    "                       bagging_seed=8,\n",
    "                       feature_fraction=0.2,\n",
    "                       feature_fraction_seed=8,\n",
    "                       min_sum_hessian_in_leaf = 11,\n",
    "                       verbose=-1,\n",
    "                       random_state=42)\n",
    "\n",
    "# XGBoost Regressor\n",
    "xgboost = XGBRegressor(learning_rate=0.01,\n",
    "                       n_estimators=6000,\n",
    "                       max_depth=4,\n",
    "                       min_child_weight=0,\n",
    "                       gamma=0.6,\n",
    "                       subsample=0.7,\n",
    "                       colsample_bytree=0.7,\n",
    "                       objective='reg:linear',\n",
    "                       nthread=-1,\n",
    "                       scale_pos_weight=1,\n",
    "                       seed=27,\n",
    "                       reg_alpha=0.00006,\n",
    "                       random_state=42)\n",
    "\n",
    "# Ridge Regressor\n",
    "ridge_alphas = [1e-15, 1e-10, 1e-8, 9e-4, 7e-4, 5e-4, 3e-4, 1e-4, 1e-3, 5e-2, 1e-2, 0.1, 0.3, 1, 3, 5, 10, 15, 18, 20, 30, 50, 75, 100]\n",
    "ridge = make_pipeline(RobustScaler(), RidgeCV(alphas=ridge_alphas, cv=kf))\n",
    "\n",
    "# Support Vector Regressor\n",
    "svr = make_pipeline(RobustScaler(), SVR(C= 20, epsilon= 0.008, gamma=0.0003))\n",
    "\n",
    "# Gradient Boosting Regressor\n",
    "gbr = GradientBoostingRegressor(n_estimators=6000,\n",
    "                                learning_rate=0.01,\n",
    "                                max_depth=4,\n",
    "                                max_features='sqrt',\n",
    "                                min_samples_leaf=15,\n",
    "                                min_samples_split=10,\n",
    "                                loss='huber',\n",
    "                                random_state=42)  \n",
    "\n",
    "# Random Forest Regressor\n",
    "rf = RandomForestRegressor(n_estimators=1200,\n",
    "                          max_depth=15,\n",
    "                          min_samples_split=5,\n",
    "                          min_samples_leaf=5,\n",
    "                          max_features=None,\n",
    "                          oob_score=True,\n",
    "                       random_state=42)\n",
    "\n",
    "dt=DecisionTreeRegressor(random_state=42)\n",
    "mlp=MLPRegressor(random_state=1, max_iter=300)\n",
    "\n",
    "# Stack up all the models above, optimized using xgboost\n",
    "klstack_gen = StackingCVRegressor(regressors=(xgboost, lightgbm, svr, ridge, gbr, rf),\n",
    "                                meta_regressor=xgboost,\n",
    "                                use_features_in_secondary=True)"
   ]
  },
  {
   "cell_type": "code",
   "execution_count": 62,
   "id": "e28decdf",
   "metadata": {
    "execution": {
     "iopub.execute_input": "2023-03-30T13:08:26.930925Z",
     "iopub.status.busy": "2023-03-30T13:08:26.929918Z",
     "iopub.status.idle": "2023-03-30T13:08:26.945579Z",
     "shell.execute_reply": "2023-03-30T13:08:26.944416Z",
     "shell.execute_reply.started": "2023-03-30T13:08:26.930890Z"
    }
   },
   "outputs": [
    {
     "data": {
      "text/plain": [
       "'\\ndef cv_rmse(model, X=X):\\n    rmse = np.sqrt(-cross_val_score(model, X, train_labels, scoring=\"neg_mean_squared_error\", cv=kf))\\n    return (rmse)\\n'"
      ]
     },
     "execution_count": 62,
     "metadata": {},
     "output_type": "execute_result"
    }
   ],
   "source": [
    "def mse(y, y_pred):\n",
    "    return mean_squared_error(y, y_pred)\n",
    "def r2(y, y_pred):\n",
    "    return r2_score(y, y_pred)\n",
    "def mae(y, y_pred):\n",
    "    return mean_absolute_error(y, y_pred)\n",
    "\n",
    "def mape(y, y_pred):\n",
    "    return ean_absolute_percentage_error(y, y_pred)\n",
    "\n",
    "\n",
    "# Define error metrics\n",
    "def rmsle(y, y_pred):\n",
    "    return np.sqrt(mean_squared_error(y, y_pred))\n",
    "\n",
    "\"\"\"\n",
    "def cv_rmse(model, X=X):\n",
    "    rmse = np.sqrt(-cross_val_score(model, X, train_labels, scoring=\"neg_mean_squared_error\", cv=kf))\n",
    "    return (rmse)\n",
    "\"\"\""
   ]
  },
  {
   "cell_type": "code",
   "execution_count": 63,
   "id": "1e56da9f",
   "metadata": {},
   "outputs": [],
   "source": [
    "#mean_squared_error, r2_score,mean_absolute_error,mean_absolute_percentage_error"
   ]
  },
  {
   "cell_type": "code",
   "execution_count": null,
   "id": "74c92490",
   "metadata": {},
   "outputs": [],
   "source": []
  },
  {
   "cell_type": "code",
   "execution_count": 64,
   "id": "6a8c475e",
   "metadata": {
    "execution": {
     "iopub.execute_input": "2023-03-30T13:08:26.949628Z",
     "iopub.status.busy": "2023-03-30T13:08:26.949300Z",
     "iopub.status.idle": "2023-03-30T13:08:57.631054Z",
     "shell.execute_reply": "2023-03-30T13:08:57.629895Z",
     "shell.execute_reply.started": "2023-03-30T13:08:26.949594Z"
    }
   },
   "outputs": [
    {
     "name": "stdout",
     "output_type": "stream",
     "text": [
      "[15:55:10] WARNING: C:/buildkite-agent/builds/buildkite-windows-cpu-autoscaling-group-i-03de431ba26204c4d-1/xgboost/xgboost-ci-windows/src/objective/regression_obj.cu:213: reg:linear is now deprecated in favor of reg:squarederror.\n",
      "[LightGBM] [Warning] feature_fraction is set=0.2, colsample_bytree=1.0 will be ignored. Current value: feature_fraction=0.2\n",
      "[LightGBM] [Warning] min_sum_hessian_in_leaf is set=11, min_child_weight=0.001 will be ignored. Current value: min_sum_hessian_in_leaf=11\n",
      "[LightGBM] [Warning] bagging_fraction is set=0.8, subsample=1.0 will be ignored. Current value: bagging_fraction=0.8\n",
      "[LightGBM] [Warning] bagging_freq is set=4, subsample_freq=0 will be ignored. Current value: bagging_freq=4\n"
     ]
    }
   ],
   "source": [
    "models_list=[\"xgboost\", \"lightgbm\", \"svr\", \"ridge\", \"gbr\", \"rf\",\"dt\",\"mlp\"]\n",
    "models=[xgboost, lightgbm, svr, ridge, gbr, rf,dt,mlp]\n",
    "mse_result_1=[]\n",
    "r2_result_1=[]\n",
    "mae_result_1=[]\n",
    "mape_result_1=[]\n",
    "rmsle_result_1=[]\n",
    "for model in models:\n",
    "    model=model.fit(train_features_1,train_labels_1)\n",
    "#---------------------------------------------------------------------------\n",
    "    y_pred_1=model.predict(test_features_1)\n",
    "#--------------------------------------------------------------------------\n",
    "    mse_sonuc_1=mean_squared_error(test_y_1, y_pred_1)\n",
    "    r2_sonuc_1=r2(test_y_1, y_pred_1)\n",
    "    mae_sonuc_1=mean_absolute_error(test_y_1, y_pred_1)\n",
    "    mape_sonuc_1=mean_absolute_percentage_error(test_y_1, y_pred_1)\n",
    "    rmsle_sonuc_1=rmsle(test_y_1, y_pred_1)\n",
    "#--------------------------------------------------------------------------------\n",
    "    mse_result_1.append(mse_sonuc_1)\n",
    "    r2_result_1.append(r2_sonuc_1)\n",
    "    mae_result_1.append(mae_sonuc_1)\n",
    "    mape_result_1.append(mape_sonuc_1)\n",
    "    rmsle_result_1.append(rmsle_sonuc_1)\n",
    "    "
   ]
  },
  {
   "cell_type": "code",
   "execution_count": 65,
   "id": "6e0759f9",
   "metadata": {
    "execution": {
     "iopub.execute_input": "2023-03-30T13:08:57.633321Z",
     "iopub.status.busy": "2023-03-30T13:08:57.632178Z",
     "iopub.status.idle": "2023-03-30T13:08:57.638571Z",
     "shell.execute_reply": "2023-03-30T13:08:57.637446Z",
     "shell.execute_reply.started": "2023-03-30T13:08:57.633285Z"
    }
   },
   "outputs": [],
   "source": [
    "models_result_df_1=pd.DataFrame({\"models\":models_list,\"mse_result\":mse_result_1,\"mae_result\":mae_result_1,\\\n",
    "\"mape_result\":mape_result_1,\"rmsle_result\":rmsle_result_1,\"r2_result\":r2_result_1 })\n",
    "                                \n",
    "                               \n"
   ]
  },
  {
   "cell_type": "code",
   "execution_count": 66,
   "id": "90c5fa87",
   "metadata": {
    "execution": {
     "iopub.execute_input": "2023-03-30T13:08:57.640027Z",
     "iopub.status.busy": "2023-03-30T13:08:57.639746Z",
     "iopub.status.idle": "2023-03-30T13:08:57.653103Z",
     "shell.execute_reply": "2023-03-30T13:08:57.651752Z",
     "shell.execute_reply.started": "2023-03-30T13:08:57.639999Z"
    }
   },
   "outputs": [],
   "source": [
    "models_result_df_1=models_result_df_1.sort_values(by=[\"r2_result\"],ascending=False).reset_index(drop=True)"
   ]
  },
  {
   "cell_type": "code",
   "execution_count": 67,
   "id": "e19042c6",
   "metadata": {
    "execution": {
     "iopub.execute_input": "2023-03-30T13:08:57.654684Z",
     "iopub.status.busy": "2023-03-30T13:08:57.654290Z",
     "iopub.status.idle": "2023-03-30T13:08:57.670534Z",
     "shell.execute_reply": "2023-03-30T13:08:57.669148Z",
     "shell.execute_reply.started": "2023-03-30T13:08:57.654642Z"
    }
   },
   "outputs": [
    {
     "data": {
      "text/html": [
       "<div>\n",
       "<style scoped>\n",
       "    .dataframe tbody tr th:only-of-type {\n",
       "        vertical-align: middle;\n",
       "    }\n",
       "\n",
       "    .dataframe tbody tr th {\n",
       "        vertical-align: top;\n",
       "    }\n",
       "\n",
       "    .dataframe thead th {\n",
       "        text-align: right;\n",
       "    }\n",
       "</style>\n",
       "<table border=\"1\" class=\"dataframe\">\n",
       "  <thead>\n",
       "    <tr style=\"text-align: right;\">\n",
       "      <th></th>\n",
       "      <th>models</th>\n",
       "      <th>mse_result</th>\n",
       "      <th>mae_result</th>\n",
       "      <th>mape_result</th>\n",
       "      <th>rmsle_result</th>\n",
       "      <th>r2_result</th>\n",
       "    </tr>\n",
       "  </thead>\n",
       "  <tbody>\n",
       "    <tr>\n",
       "      <th>0</th>\n",
       "      <td>ridge</td>\n",
       "      <td>4.561022</td>\n",
       "      <td>1.654031</td>\n",
       "      <td>0.045248</td>\n",
       "      <td>2.135655</td>\n",
       "      <td>0.909856</td>\n",
       "    </tr>\n",
       "    <tr>\n",
       "      <th>1</th>\n",
       "      <td>lightgbm</td>\n",
       "      <td>6.236107</td>\n",
       "      <td>1.989760</td>\n",
       "      <td>0.054031</td>\n",
       "      <td>2.497220</td>\n",
       "      <td>0.876750</td>\n",
       "    </tr>\n",
       "    <tr>\n",
       "      <th>2</th>\n",
       "      <td>gbr</td>\n",
       "      <td>6.907366</td>\n",
       "      <td>1.995884</td>\n",
       "      <td>0.051761</td>\n",
       "      <td>2.628187</td>\n",
       "      <td>0.863483</td>\n",
       "    </tr>\n",
       "    <tr>\n",
       "      <th>3</th>\n",
       "      <td>rf</td>\n",
       "      <td>7.436154</td>\n",
       "      <td>2.173394</td>\n",
       "      <td>0.059623</td>\n",
       "      <td>2.726931</td>\n",
       "      <td>0.853032</td>\n",
       "    </tr>\n",
       "    <tr>\n",
       "      <th>4</th>\n",
       "      <td>xgboost</td>\n",
       "      <td>9.661492</td>\n",
       "      <td>2.444550</td>\n",
       "      <td>0.068239</td>\n",
       "      <td>3.108294</td>\n",
       "      <td>0.809051</td>\n",
       "    </tr>\n",
       "    <tr>\n",
       "      <th>5</th>\n",
       "      <td>dt</td>\n",
       "      <td>14.808743</td>\n",
       "      <td>2.900000</td>\n",
       "      <td>0.079019</td>\n",
       "      <td>3.848213</td>\n",
       "      <td>0.707321</td>\n",
       "    </tr>\n",
       "    <tr>\n",
       "      <th>6</th>\n",
       "      <td>svr</td>\n",
       "      <td>49.932586</td>\n",
       "      <td>5.778633</td>\n",
       "      <td>0.155408</td>\n",
       "      <td>7.066299</td>\n",
       "      <td>0.013136</td>\n",
       "    </tr>\n",
       "    <tr>\n",
       "      <th>7</th>\n",
       "      <td>mlp</td>\n",
       "      <td>3710.374436</td>\n",
       "      <td>57.381973</td>\n",
       "      <td>1.566410</td>\n",
       "      <td>60.912843</td>\n",
       "      <td>-72.331584</td>\n",
       "    </tr>\n",
       "  </tbody>\n",
       "</table>\n",
       "</div>"
      ],
      "text/plain": [
       "     models   mse_result  mae_result  mape_result  rmsle_result  r2_result\n",
       "0     ridge     4.561022    1.654031     0.045248      2.135655   0.909856\n",
       "1  lightgbm     6.236107    1.989760     0.054031      2.497220   0.876750\n",
       "2       gbr     6.907366    1.995884     0.051761      2.628187   0.863483\n",
       "3        rf     7.436154    2.173394     0.059623      2.726931   0.853032\n",
       "4   xgboost     9.661492    2.444550     0.068239      3.108294   0.809051\n",
       "5        dt    14.808743    2.900000     0.079019      3.848213   0.707321\n",
       "6       svr    49.932586    5.778633     0.155408      7.066299   0.013136\n",
       "7       mlp  3710.374436   57.381973     1.566410     60.912843 -72.331584"
      ]
     },
     "execution_count": 67,
     "metadata": {},
     "output_type": "execute_result"
    }
   ],
   "source": [
    "models_result_df_1\n"
   ]
  },
  {
   "cell_type": "code",
   "execution_count": null,
   "id": "6f8ae532",
   "metadata": {},
   "outputs": [],
   "source": []
  },
  {
   "cell_type": "code",
   "execution_count": 68,
   "id": "5c69c407",
   "metadata": {
    "execution": {
     "iopub.execute_input": "2023-03-30T13:08:57.672840Z",
     "iopub.status.busy": "2023-03-30T13:08:57.671946Z",
     "iopub.status.idle": "2023-03-30T13:08:57.680780Z",
     "shell.execute_reply": "2023-03-30T13:08:57.679424Z",
     "shell.execute_reply.started": "2023-03-30T13:08:57.672795Z"
    }
   },
   "outputs": [],
   "source": [
    "models_result_df_1_g=models_result_df_1.iloc[:7,:]"
   ]
  },
  {
   "cell_type": "code",
   "execution_count": 69,
   "id": "a9511361",
   "metadata": {
    "execution": {
     "iopub.execute_input": "2023-03-30T13:08:57.684891Z",
     "iopub.status.busy": "2023-03-30T13:08:57.684563Z",
     "iopub.status.idle": "2023-03-30T13:08:57.699731Z",
     "shell.execute_reply": "2023-03-30T13:08:57.698603Z",
     "shell.execute_reply.started": "2023-03-30T13:08:57.684859Z"
    }
   },
   "outputs": [
    {
     "data": {
      "text/html": [
       "<div>\n",
       "<style scoped>\n",
       "    .dataframe tbody tr th:only-of-type {\n",
       "        vertical-align: middle;\n",
       "    }\n",
       "\n",
       "    .dataframe tbody tr th {\n",
       "        vertical-align: top;\n",
       "    }\n",
       "\n",
       "    .dataframe thead th {\n",
       "        text-align: right;\n",
       "    }\n",
       "</style>\n",
       "<table border=\"1\" class=\"dataframe\">\n",
       "  <thead>\n",
       "    <tr style=\"text-align: right;\">\n",
       "      <th></th>\n",
       "      <th>models</th>\n",
       "      <th>mse_result</th>\n",
       "      <th>mae_result</th>\n",
       "      <th>mape_result</th>\n",
       "      <th>rmsle_result</th>\n",
       "      <th>r2_result</th>\n",
       "    </tr>\n",
       "  </thead>\n",
       "  <tbody>\n",
       "    <tr>\n",
       "      <th>0</th>\n",
       "      <td>ridge</td>\n",
       "      <td>4.561022</td>\n",
       "      <td>1.654031</td>\n",
       "      <td>0.045248</td>\n",
       "      <td>2.135655</td>\n",
       "      <td>0.909856</td>\n",
       "    </tr>\n",
       "    <tr>\n",
       "      <th>1</th>\n",
       "      <td>lightgbm</td>\n",
       "      <td>6.236107</td>\n",
       "      <td>1.989760</td>\n",
       "      <td>0.054031</td>\n",
       "      <td>2.497220</td>\n",
       "      <td>0.876750</td>\n",
       "    </tr>\n",
       "    <tr>\n",
       "      <th>2</th>\n",
       "      <td>gbr</td>\n",
       "      <td>6.907366</td>\n",
       "      <td>1.995884</td>\n",
       "      <td>0.051761</td>\n",
       "      <td>2.628187</td>\n",
       "      <td>0.863483</td>\n",
       "    </tr>\n",
       "    <tr>\n",
       "      <th>3</th>\n",
       "      <td>rf</td>\n",
       "      <td>7.436154</td>\n",
       "      <td>2.173394</td>\n",
       "      <td>0.059623</td>\n",
       "      <td>2.726931</td>\n",
       "      <td>0.853032</td>\n",
       "    </tr>\n",
       "    <tr>\n",
       "      <th>4</th>\n",
       "      <td>xgboost</td>\n",
       "      <td>9.661492</td>\n",
       "      <td>2.444550</td>\n",
       "      <td>0.068239</td>\n",
       "      <td>3.108294</td>\n",
       "      <td>0.809051</td>\n",
       "    </tr>\n",
       "    <tr>\n",
       "      <th>5</th>\n",
       "      <td>dt</td>\n",
       "      <td>14.808743</td>\n",
       "      <td>2.900000</td>\n",
       "      <td>0.079019</td>\n",
       "      <td>3.848213</td>\n",
       "      <td>0.707321</td>\n",
       "    </tr>\n",
       "    <tr>\n",
       "      <th>6</th>\n",
       "      <td>svr</td>\n",
       "      <td>49.932586</td>\n",
       "      <td>5.778633</td>\n",
       "      <td>0.155408</td>\n",
       "      <td>7.066299</td>\n",
       "      <td>0.013136</td>\n",
       "    </tr>\n",
       "  </tbody>\n",
       "</table>\n",
       "</div>"
      ],
      "text/plain": [
       "     models  mse_result  mae_result  mape_result  rmsle_result  r2_result\n",
       "0     ridge    4.561022    1.654031     0.045248      2.135655   0.909856\n",
       "1  lightgbm    6.236107    1.989760     0.054031      2.497220   0.876750\n",
       "2       gbr    6.907366    1.995884     0.051761      2.628187   0.863483\n",
       "3        rf    7.436154    2.173394     0.059623      2.726931   0.853032\n",
       "4   xgboost    9.661492    2.444550     0.068239      3.108294   0.809051\n",
       "5        dt   14.808743    2.900000     0.079019      3.848213   0.707321\n",
       "6       svr   49.932586    5.778633     0.155408      7.066299   0.013136"
      ]
     },
     "execution_count": 69,
     "metadata": {},
     "output_type": "execute_result"
    }
   ],
   "source": [
    "models_result_df_1_g"
   ]
  },
  {
   "cell_type": "code",
   "execution_count": 70,
   "id": "fd2dfba5",
   "metadata": {
    "execution": {
     "iopub.execute_input": "2023-03-30T13:08:57.703240Z",
     "iopub.status.busy": "2023-03-30T13:08:57.702762Z",
     "iopub.status.idle": "2023-03-30T13:08:58.189158Z",
     "shell.execute_reply": "2023-03-30T13:08:58.187814Z",
     "shell.execute_reply.started": "2023-03-30T13:08:57.703190Z"
    }
   },
   "outputs": [
    {
     "data": {
      "text/plain": [
       "<seaborn.axisgrid.FacetGrid at 0x1ff61ee93d0>"
      ]
     },
     "execution_count": 70,
     "metadata": {},
     "output_type": "execute_result"
    },
    {
     "data": {
      "image/png": "[encoded data removed]",
      "text/plain": [
       "<Figure size 360x360 with 1 Axes>"
      ]
     },
     "metadata": {},
     "output_type": "display_data"
    }
   ],
   "source": [
    "import seaborn as sns\n",
    "sns.set_theme(style=\"whitegrid\")\n",
    "\n",
    "\n",
    "\n",
    "# Draw a nested barplot by species and sex\n",
    "g = sns.catplot(\n",
    "    data=models_result_df_1_g, kind=\"bar\",\n",
    "    x=\"models\", y=\"r2_result\",\n",
    "     palette=\"dark\", alpha=.6, height=5\n",
    ")\n",
    "g.despine(left=True)\n",
    "g.set_axis_labels(\"models\", \"r2_result\")\n",
    "g.set_titles(\"Compressive Strength (28-day)(Mpa)\")\n"
   ]
  },
  {
   "cell_type": "code",
   "execution_count": null,
   "id": "04ac1e9a",
   "metadata": {},
   "outputs": [],
   "source": []
  },
  {
   "cell_type": "code",
   "execution_count": 71,
   "id": "d4aba429",
   "metadata": {
    "execution": {
     "iopub.execute_input": "2023-03-30T13:08:58.191531Z",
     "iopub.status.busy": "2023-03-30T13:08:58.191079Z",
     "iopub.status.idle": "2023-03-30T13:08:58.505274Z",
     "shell.execute_reply": "2023-03-30T13:08:58.504317Z",
     "shell.execute_reply.started": "2023-03-30T13:08:58.191486Z"
    }
   },
   "outputs": [
    {
     "data": {
      "text/plain": [
       "<AxesSubplot:xlabel='models', ylabel='r2_result'>"
      ]
     },
     "execution_count": 71,
     "metadata": {},
     "output_type": "execute_result"
    },
    {
     "data": {
      "image/png": "[encoded data removed]",
      "text/plain": [
       "<Figure size 432x288 with 1 Axes>"
      ]
     },
     "metadata": {},
     "output_type": "display_data"
    }
   ],
   "source": [
    "sns.lineplot(\n",
    "    data=models_result_df_1,\n",
    "    x=\"models\", y=\"r2_result\",\n",
    "    markers=True, dashes=False\n",
    ")"
   ]
  },
  {
   "cell_type": "code",
   "execution_count": 72,
   "id": "8ad732f0",
   "metadata": {
    "execution": {
     "iopub.execute_input": "2023-03-30T13:08:58.507032Z",
     "iopub.status.busy": "2023-03-30T13:08:58.506732Z",
     "iopub.status.idle": "2023-03-30T13:08:58.511737Z",
     "shell.execute_reply": "2023-03-30T13:08:58.510438Z",
     "shell.execute_reply.started": "2023-03-30T13:08:58.507002Z"
    }
   },
   "outputs": [],
   "source": [
    "#pip install keras"
   ]
  },
  {
   "cell_type": "code",
   "execution_count": 73,
   "id": "216a3027",
   "metadata": {
    "execution": {
     "iopub.execute_input": "2023-03-30T13:08:58.513534Z",
     "iopub.status.busy": "2023-03-30T13:08:58.513215Z",
     "iopub.status.idle": "2023-03-30T13:08:58.521321Z",
     "shell.execute_reply": "2023-03-30T13:08:58.520336Z",
     "shell.execute_reply.started": "2023-03-30T13:08:58.513503Z"
    }
   },
   "outputs": [],
   "source": [
    "#pip install tensorflow==2.11.*"
   ]
  },
  {
   "cell_type": "code",
   "execution_count": 74,
   "id": "bb53bcc4",
   "metadata": {
    "execution": {
     "iopub.execute_input": "2023-03-30T13:08:58.523109Z",
     "iopub.status.busy": "2023-03-30T13:08:58.522821Z",
     "iopub.status.idle": "2023-03-30T13:08:58.530580Z",
     "shell.execute_reply": "2023-03-30T13:08:58.529524Z",
     "shell.execute_reply.started": "2023-03-30T13:08:58.523079Z"
    }
   },
   "outputs": [],
   "source": [
    "#pip install tensorflow"
   ]
  },
  {
   "cell_type": "code",
   "execution_count": 75,
   "id": "3fe462d4",
   "metadata": {
    "execution": {
     "iopub.execute_input": "2023-03-30T13:08:58.532546Z",
     "iopub.status.busy": "2023-03-30T13:08:58.532218Z",
     "iopub.status.idle": "2023-03-30T13:08:58.539986Z",
     "shell.execute_reply": "2023-03-30T13:08:58.538915Z",
     "shell.execute_reply.started": "2023-03-30T13:08:58.532513Z"
    }
   },
   "outputs": [],
   "source": [
    "from sklearn.preprocessing import MinMaxScaler\n",
    "import tensorflow.keras\n",
    "from keras.layers import Dense,Dropout\n",
    "from keras.models import Sequential"
   ]
  },
  {
   "cell_type": "code",
   "execution_count": 76,
   "id": "bd0372a1",
   "metadata": {
    "execution": {
     "iopub.execute_input": "2023-03-30T13:08:58.541896Z",
     "iopub.status.busy": "2023-03-30T13:08:58.541558Z",
     "iopub.status.idle": "2023-03-30T13:08:58.549035Z",
     "shell.execute_reply": "2023-03-30T13:08:58.547862Z",
     "shell.execute_reply.started": "2023-03-30T13:08:58.541851Z"
    }
   },
   "outputs": [],
   "source": [
    "scaler=MinMaxScaler()"
   ]
  },
  {
   "cell_type": "code",
   "execution_count": 77,
   "id": "3528e37e",
   "metadata": {
    "execution": {
     "iopub.execute_input": "2023-03-30T13:09:36.153664Z",
     "iopub.status.busy": "2023-03-30T13:09:36.153192Z",
     "iopub.status.idle": "2023-03-30T13:09:36.161108Z",
     "shell.execute_reply": "2023-03-30T13:09:36.159699Z",
     "shell.execute_reply.started": "2023-03-30T13:09:36.153622Z"
    }
   },
   "outputs": [],
   "source": [
    "def regression_model():\n",
    "    # create model\n",
    "    model = Sequential()\n",
    "    model.add(Dense(4, input_dim=8, activation='relu'))\n",
    "    model.add(Dense(1, kernel_initializer='normal'))\n",
    "    # Compile model\n",
    "    model.compile(loss='mean_squared_error', optimizer='adam')\n",
    "    return model"
   ]
  },
  {
   "cell_type": "code",
   "execution_count": 78,
   "id": "e822ea39",
   "metadata": {
    "execution": {
     "iopub.execute_input": "2023-03-30T13:09:40.597319Z",
     "iopub.status.busy": "2023-03-30T13:09:40.596322Z",
     "iopub.status.idle": "2023-03-30T13:09:40.632780Z",
     "shell.execute_reply": "2023-03-30T13:09:40.631853Z",
     "shell.execute_reply.started": "2023-03-30T13:09:40.597264Z"
    }
   },
   "outputs": [],
   "source": [
    "model = regression_model()"
   ]
  },
  {
   "cell_type": "code",
   "execution_count": 79,
   "id": "a2218a5f",
   "metadata": {
    "execution": {
     "iopub.execute_input": "2023-03-30T13:09:42.345161Z",
     "iopub.status.busy": "2023-03-30T13:09:42.344656Z",
     "iopub.status.idle": "2023-03-30T13:09:48.313765Z",
     "shell.execute_reply": "2023-03-30T13:09:48.312645Z",
     "shell.execute_reply.started": "2023-03-30T13:09:42.345105Z"
    }
   },
   "outputs": [],
   "source": [
    "history=model.fit(train_features_1,train_labels_1, epochs=500,verbose=False)"
   ]
  },
  {
   "cell_type": "code",
   "execution_count": 80,
   "id": "b3d3c762",
   "metadata": {
    "execution": {
     "iopub.execute_input": "2023-03-30T13:09:51.064935Z",
     "iopub.status.busy": "2023-03-30T13:09:51.064534Z",
     "iopub.status.idle": "2023-03-30T13:09:51.181431Z",
     "shell.execute_reply": "2023-03-30T13:09:51.180502Z",
     "shell.execute_reply.started": "2023-03-30T13:09:51.064901Z"
    }
   },
   "outputs": [
    {
     "name": "stdout",
     "output_type": "stream",
     "text": [
      "1/1 [==============================] - 0s 69ms/step\n"
     ]
    }
   ],
   "source": [
    "y_pred_ann=model.predict(test_features_1)"
   ]
  },
  {
   "cell_type": "code",
   "execution_count": 81,
   "id": "bfa152da",
   "metadata": {
    "execution": {
     "iopub.execute_input": "2023-03-30T13:09:04.409791Z",
     "iopub.status.busy": "2023-03-30T13:09:04.409375Z",
     "iopub.status.idle": "2023-03-30T13:09:04.415708Z",
     "shell.execute_reply": "2023-03-30T13:09:04.414572Z",
     "shell.execute_reply.started": "2023-03-30T13:09:04.409746Z"
    }
   },
   "outputs": [],
   "source": [
    "r2_sonuc_1=r2(test_y_1, y_pred_1)\n",
    "   "
   ]
  },
  {
   "cell_type": "code",
   "execution_count": 82,
   "id": "54b4a16d",
   "metadata": {
    "execution": {
     "iopub.execute_input": "2023-03-30T13:09:53.800650Z",
     "iopub.status.busy": "2023-03-30T13:09:53.800169Z",
     "iopub.status.idle": "2023-03-30T13:09:53.806614Z",
     "shell.execute_reply": "2023-03-30T13:09:53.805422Z",
     "shell.execute_reply.started": "2023-03-30T13:09:53.800606Z"
    }
   },
   "outputs": [],
   "source": [
    " r2_sonuc_1=r2(test_y_1, y_pred_1)"
   ]
  },
  {
   "cell_type": "code",
   "execution_count": 83,
   "id": "8628157f",
   "metadata": {
    "execution": {
     "iopub.execute_input": "2023-03-30T13:09:56.063403Z",
     "iopub.status.busy": "2023-03-30T13:09:56.062949Z",
     "iopub.status.idle": "2023-03-30T13:09:56.071386Z",
     "shell.execute_reply": "2023-03-30T13:09:56.069866Z",
     "shell.execute_reply.started": "2023-03-30T13:09:56.063337Z"
    }
   },
   "outputs": [
    {
     "data": {
      "text/plain": [
       "-72.33158368881575"
      ]
     },
     "execution_count": 83,
     "metadata": {},
     "output_type": "execute_result"
    }
   ],
   "source": [
    "r2_sonuc_1"
   ]
  }
 ],
 "metadata": {
  "kernelspec": {
   "display_name": "Python 3 (ipykernel)",
   "language": "python",
   "name": "python3"
  },
  "language_info": {
   "codemirror_mode": {
    "name": "ipython",
    "version": 3
   },
   "file_extension": ".py",
   "mimetype": "text/x-python",
   "name": "python",
   "nbconvert_exporter": "python",
   "pygments_lexer": "ipython3",
   "version": "3.9.12"
  }
 },
 "nbformat": 4,
 "nbformat_minor": 5
}
